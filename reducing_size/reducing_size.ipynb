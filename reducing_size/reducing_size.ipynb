{
  "nbformat": 4,
  "nbformat_minor": 0,
  "metadata": {
    "colab": {
      "provenance": []
    },
    "kernelspec": {
      "name": "python3",
      "display_name": "Python 3"
    },
    "language_info": {
      "name": "python"
    }
  },
  "cells": [
    {
      "cell_type": "code",
      "execution_count": 1,
      "metadata": {
        "colab": {
          "base_uri": "https://localhost:8080/"
        },
        "id": "fDpVTIbPJ0_u",
        "outputId": "f952026f-1efb-4cef-c66c-e9a92e25d9d0"
      },
      "outputs": [
        {
          "output_type": "stream",
          "name": "stdout",
          "text": [
            "W: Skipping acquire of configured file 'main/source/Sources' as repository 'https://r2u.stat.illinois.edu/ubuntu jammy InRelease' does not seem to provide it (sources.list entry misspelt?)\n",
            "Preconfiguring packages ...\n",
            "Selecting previously unselected package netbase.\n",
            "(Reading database ... 126371 files and directories currently installed.)\n",
            "Preparing to unpack .../00-netbase_6.3_all.deb ...\n",
            "Unpacking netbase (6.3) ...\n",
            "Selecting previously unselected package netcat-openbsd.\n",
            "Preparing to unpack .../01-netcat-openbsd_1.218-4ubuntu1_amd64.deb ...\n",
            "Unpacking netcat-openbsd (1.218-4ubuntu1) ...\n",
            "Selecting previously unselected package apparmor.\n",
            "Preparing to unpack .../02-apparmor_3.0.4-2ubuntu2.4_amd64.deb ...\n",
            "Unpacking apparmor (3.0.4-2ubuntu2.4) ...\n",
            "Selecting previously unselected package libip6tc2:amd64.\n",
            "Preparing to unpack .../03-libip6tc2_1.8.7-1ubuntu5.2_amd64.deb ...\n",
            "Unpacking libip6tc2:amd64 (1.8.7-1ubuntu5.2) ...\n",
            "Selecting previously unselected package libnfnetlink0:amd64.\n",
            "Preparing to unpack .../04-libnfnetlink0_1.0.1-3build3_amd64.deb ...\n",
            "Unpacking libnfnetlink0:amd64 (1.0.1-3build3) ...\n",
            "Selecting previously unselected package libnetfilter-conntrack3:amd64.\n",
            "Preparing to unpack .../05-libnetfilter-conntrack3_1.0.9-1_amd64.deb ...\n",
            "Unpacking libnetfilter-conntrack3:amd64 (1.0.9-1) ...\n",
            "Selecting previously unselected package libnftnl11:amd64.\n",
            "Preparing to unpack .../06-libnftnl11_1.2.1-1build1_amd64.deb ...\n",
            "Unpacking libnftnl11:amd64 (1.2.1-1build1) ...\n",
            "Selecting previously unselected package iptables.\n",
            "Preparing to unpack .../07-iptables_1.8.7-1ubuntu5.2_amd64.deb ...\n",
            "Unpacking iptables (1.8.7-1ubuntu5.2) ...\n",
            "Selecting previously unselected package bridge-utils.\n",
            "Preparing to unpack .../08-bridge-utils_1.7-1ubuntu3_amd64.deb ...\n",
            "Unpacking bridge-utils (1.7-1ubuntu3) ...\n",
            "Selecting previously unselected package runc.\n",
            "Preparing to unpack .../09-runc_1.2.5-0ubuntu1~22.04.1_amd64.deb ...\n",
            "Unpacking runc (1.2.5-0ubuntu1~22.04.1) ...\n",
            "Selecting previously unselected package containerd.\n",
            "Preparing to unpack .../10-containerd_1.7.27-0ubuntu1~22.04.1_amd64.deb ...\n",
            "Unpacking containerd (1.7.27-0ubuntu1~22.04.1) ...\n",
            "Selecting previously unselected package dns-root-data.\n",
            "Preparing to unpack .../11-dns-root-data_2024071801~ubuntu0.22.04.1_all.deb ...\n",
            "Unpacking dns-root-data (2024071801~ubuntu0.22.04.1) ...\n",
            "Selecting previously unselected package dnsmasq-base.\n",
            "Preparing to unpack .../12-dnsmasq-base_2.90-0ubuntu0.22.04.1_amd64.deb ...\n",
            "Unpacking dnsmasq-base (2.90-0ubuntu0.22.04.1) ...\n",
            "Selecting previously unselected package docker.io.\n",
            "Preparing to unpack .../13-docker.io_27.5.1-0ubuntu3~22.04.2_amd64.deb ...\n",
            "Unpacking docker.io (27.5.1-0ubuntu3~22.04.2) ...\n",
            "Selecting previously unselected package netcat.\n",
            "Preparing to unpack .../14-netcat_1.218-4ubuntu1_all.deb ...\n",
            "Unpacking netcat (1.218-4ubuntu1) ...\n",
            "Selecting previously unselected package ubuntu-fan.\n",
            "Preparing to unpack .../15-ubuntu-fan_0.12.16_all.deb ...\n",
            "Unpacking ubuntu-fan (0.12.16) ...\n",
            "Setting up libip6tc2:amd64 (1.8.7-1ubuntu5.2) ...\n",
            "Setting up netcat-openbsd (1.218-4ubuntu1) ...\n",
            "update-alternatives: using /bin/nc.openbsd to provide /bin/nc (nc) in auto mode\n",
            "Setting up libnftnl11:amd64 (1.2.1-1build1) ...\n",
            "Setting up netcat (1.218-4ubuntu1) ...\n",
            "Setting up runc (1.2.5-0ubuntu1~22.04.1) ...\n",
            "Setting up dns-root-data (2024071801~ubuntu0.22.04.1) ...\n",
            "Setting up apparmor (3.0.4-2ubuntu2.4) ...\n",
            "Created symlink /etc/systemd/system/sysinit.target.wants/apparmor.service → /lib/systemd/system/apparmor.service.\n",
            "Setting up bridge-utils (1.7-1ubuntu3) ...\n",
            "Setting up libnfnetlink0:amd64 (1.0.1-3build3) ...\n",
            "Setting up netbase (6.3) ...\n",
            "Setting up containerd (1.7.27-0ubuntu1~22.04.1) ...\n",
            "Created symlink /etc/systemd/system/multi-user.target.wants/containerd.service → /lib/systemd/system/containerd.service.\n",
            "Setting up libnetfilter-conntrack3:amd64 (1.0.9-1) ...\n",
            "Setting up iptables (1.8.7-1ubuntu5.2) ...\n",
            "update-alternatives: using /usr/sbin/iptables-legacy to provide /usr/sbin/iptables (iptables) in auto mode\n",
            "update-alternatives: using /usr/sbin/ip6tables-legacy to provide /usr/sbin/ip6tables (ip6tables) in auto mode\n",
            "update-alternatives: using /usr/sbin/iptables-nft to provide /usr/sbin/iptables (iptables) in auto mode\n",
            "update-alternatives: using /usr/sbin/ip6tables-nft to provide /usr/sbin/ip6tables (ip6tables) in auto mode\n",
            "update-alternatives: using /usr/sbin/arptables-nft to provide /usr/sbin/arptables (arptables) in auto mode\n",
            "update-alternatives: using /usr/sbin/ebtables-nft to provide /usr/sbin/ebtables (ebtables) in auto mode\n",
            "Setting up docker.io (27.5.1-0ubuntu3~22.04.2) ...\n",
            "Adding group `docker' (GID 107) ...\n",
            "Done.\n",
            "Created symlink /etc/systemd/system/multi-user.target.wants/docker.service → /lib/systemd/system/docker.service.\n",
            "Created symlink /etc/systemd/system/sockets.target.wants/docker.socket → /lib/systemd/system/docker.socket.\n",
            "invoke-rc.d: unknown initscript, /etc/init.d/docker not found.\n",
            "invoke-rc.d: could not determine current runlevel\n",
            "Setting up dnsmasq-base (2.90-0ubuntu0.22.04.1) ...\n",
            "Setting up ubuntu-fan (0.12.16) ...\n",
            "Created symlink /etc/systemd/system/multi-user.target.wants/ubuntu-fan.service → /lib/systemd/system/ubuntu-fan.service.\n",
            "invoke-rc.d: could not determine current runlevel\n",
            "invoke-rc.d: policy-rc.d denied execution of start.\n",
            "Processing triggers for man-db (2.10.2-1) ...\n",
            "Processing triggers for dbus (1.12.20-2ubuntu4.1) ...\n",
            "Processing triggers for libc-bin (2.35-0ubuntu3.8) ...\n",
            "/sbin/ldconfig.real: /usr/local/lib/libtbbbind_2_0.so.3 is not a symbolic link\n",
            "\n",
            "/sbin/ldconfig.real: /usr/local/lib/libhwloc.so.15 is not a symbolic link\n",
            "\n",
            "/sbin/ldconfig.real: /usr/local/lib/libtbbmalloc.so.2 is not a symbolic link\n",
            "\n",
            "/sbin/ldconfig.real: /usr/local/lib/libtcm.so.1 is not a symbolic link\n",
            "\n",
            "/sbin/ldconfig.real: /usr/local/lib/libur_adapter_level_zero_v2.so.0 is not a symbolic link\n",
            "\n",
            "/sbin/ldconfig.real: /usr/local/lib/libtbbbind_2_5.so.3 is not a symbolic link\n",
            "\n",
            "/sbin/ldconfig.real: /usr/local/lib/libtbbmalloc_proxy.so.2 is not a symbolic link\n",
            "\n",
            "/sbin/ldconfig.real: /usr/local/lib/libumf.so.0 is not a symbolic link\n",
            "\n",
            "/sbin/ldconfig.real: /usr/local/lib/libtbb.so.12 is not a symbolic link\n",
            "\n",
            "/sbin/ldconfig.real: /usr/local/lib/libur_adapter_level_zero.so.0 is not a symbolic link\n",
            "\n",
            "/sbin/ldconfig.real: /usr/local/lib/libtbbbind.so.3 is not a symbolic link\n",
            "\n",
            "/sbin/ldconfig.real: /usr/local/lib/libtcm_debug.so.1 is not a symbolic link\n",
            "\n",
            "/sbin/ldconfig.real: /usr/local/lib/libur_adapter_opencl.so.0 is not a symbolic link\n",
            "\n",
            "/sbin/ldconfig.real: /usr/local/lib/libur_loader.so.0 is not a symbolic link\n",
            "\n",
            "docker: unrecognized service\n",
            "Docker version 27.5.1, build 27.5.1-0ubuntu3~22.04.2\n"
          ]
        }
      ],
      "source": [
        "# ========================\n",
        "# STEP 1: Setup Environment\n",
        "# ========================\n",
        "!apt-get update -qq\n",
        "!apt-get install -y docker.io -qq\n",
        "!service docker start\n",
        "\n",
        "# Verify docker works\n",
        "!docker --version\n"
      ]
    },
    {
      "cell_type": "code",
      "source": [
        "# ========================\n",
        "# STEP 2: Naive Dockerfile (Bloated)\n",
        "# ========================\n",
        "%%writefile Dockerfile.bloated\n",
        "\n",
        "# Using big base image\n",
        "FROM ubuntu:22.04\n",
        "\n",
        "# Install Python and dependencies\n",
        "RUN apt-get update && apt-get install -y python3 python3-pip\n",
        "\n",
        "# Copy app\n",
        "WORKDIR /app\n",
        "COPY app.py /app\n",
        "\n",
        "# Install dependencies\n",
        "RUN pip3 install flask numpy pandas\n",
        "\n",
        "# Run app\n",
        "CMD [\"python3\", \"app.py\"]\n"
      ],
      "metadata": {
        "colab": {
          "base_uri": "https://localhost:8080/"
        },
        "id": "CUOM_UnCJ_TU",
        "outputId": "4cdfec20-4273-4589-9bc2-ffa1954a8f80"
      },
      "execution_count": 2,
      "outputs": [
        {
          "output_type": "stream",
          "name": "stdout",
          "text": [
            "Writing Dockerfile.bloated\n"
          ]
        }
      ]
    },
    {
      "cell_type": "code",
      "source": [
        "# Small demo app\n",
        "%%writefile app.py\n",
        "from flask import Flask\n",
        "import numpy as np\n",
        "import pandas as pd\n",
        "\n",
        "app = Flask(__name__)\n",
        "\n",
        "@app.route(\"/\")\n",
        "def home():\n",
        "    return f\"Hello, World! Numpy:{np.__version__}, Pandas:{pd.__version__}\"\n",
        "\n",
        "if __name__ == \"__main__\":\n",
        "    app.run(host=\"0.0.0.0\", port=5000)\n"
      ],
      "metadata": {
        "colab": {
          "base_uri": "https://localhost:8080/"
        },
        "id": "IVyztlqAKCaG",
        "outputId": "9ff80b5c-646a-4533-c9ef-6ae1e24a9e3e"
      },
      "execution_count": 3,
      "outputs": [
        {
          "output_type": "stream",
          "name": "stdout",
          "text": [
            "Writing app.py\n"
          ]
        }
      ]
    },
    {
      "cell_type": "code",
      "source": [
        "# Build the bloated image\n",
        "!docker build -f Dockerfile.bloated -t bloated-app .\n",
        "!docker images bloated-app\n"
      ],
      "metadata": {
        "colab": {
          "base_uri": "https://localhost:8080/"
        },
        "id": "OCme0R7HKHje",
        "outputId": "811f1fec-dbf0-4577-e154-5d19f8628083"
      },
      "execution_count": 4,
      "outputs": [
        {
          "output_type": "stream",
          "name": "stdout",
          "text": [
            "DEPRECATED: The legacy builder is deprecated and will be removed in a future release.\n",
            "            Install the buildx component to build images with BuildKit:\n",
            "            https://docs.docker.com/go/buildx/\n",
            "\n",
            "Cannot connect to the Docker daemon at unix:///var/run/docker.sock. Is the docker daemon running?\n",
            "Cannot connect to the Docker daemon at unix:///var/run/docker.sock. Is the docker daemon running?\n"
          ]
        }
      ]
    },
    {
      "cell_type": "code",
      "source": [
        "# ========================\n",
        "# STEP 3: Optimized Dockerfile (Alpine + Multi-Stage)\n",
        "# ========================\n",
        "%%writefile Dockerfile.optimized\n",
        "\n",
        "# -------- STAGE 1: Build dependencies --------\n",
        "FROM python:3.11-slim as builder\n",
        "\n",
        "WORKDIR /app\n",
        "COPY requirements.txt .\n",
        "RUN pip install --user -r requirements.txt\n",
        "\n",
        "COPY app.py .\n",
        "\n",
        "# -------- STAGE 2: Minimal runtime --------\n",
        "FROM gcr.io/distroless/python3:nonroot\n",
        "\n",
        "WORKDIR /app\n",
        "COPY --from=builder /root/.local /root/.local\n",
        "COPY --from=builder /app /app\n",
        "\n",
        "ENV PATH=/root/.local/bin:$PATH\n",
        "CMD [\"app.py\"]\n"
      ],
      "metadata": {
        "colab": {
          "base_uri": "https://localhost:8080/"
        },
        "id": "tzM1Ues5KJWP",
        "outputId": "9492fa2c-13c6-4e2f-cb62-27d8f1dd8e62"
      },
      "execution_count": 5,
      "outputs": [
        {
          "output_type": "stream",
          "name": "stdout",
          "text": [
            "Writing Dockerfile.optimized\n"
          ]
        }
      ]
    },
    {
      "cell_type": "code",
      "source": [
        "# Create requirements.txt for builder\n",
        "%%writefile requirements.txt\n",
        "flask\n",
        "numpy\n",
        "pandas\n"
      ],
      "metadata": {
        "colab": {
          "base_uri": "https://localhost:8080/"
        },
        "id": "wOsPwxvVKL2b",
        "outputId": "5a11ccd2-1780-4779-b163-60fc45442ed6"
      },
      "execution_count": 6,
      "outputs": [
        {
          "output_type": "stream",
          "name": "stdout",
          "text": [
            "Writing requirements.txt\n"
          ]
        }
      ]
    },
    {
      "cell_type": "code",
      "source": [
        "# Build optimized image\n",
        "!docker build -f Dockerfile.optimized -t optimized-app .\n",
        "!docker images optimized-app\n"
      ],
      "metadata": {
        "colab": {
          "base_uri": "https://localhost:8080/"
        },
        "id": "_99MGzVYKNRL",
        "outputId": "ba563b1f-10a4-4587-b642-9cc7b61f3b97"
      },
      "execution_count": 7,
      "outputs": [
        {
          "output_type": "stream",
          "name": "stdout",
          "text": [
            "DEPRECATED: The legacy builder is deprecated and will be removed in a future release.\n",
            "            Install the buildx component to build images with BuildKit:\n",
            "            https://docs.docker.com/go/buildx/\n",
            "\n",
            "Cannot connect to the Docker daemon at unix:///var/run/docker.sock. Is the docker daemon running?\n",
            "Cannot connect to the Docker daemon at unix:///var/run/docker.sock. Is the docker daemon running?\n"
          ]
        }
      ]
    },
    {
      "cell_type": "code",
      "source": [
        "# ========================\n",
        "# STEP 4: Compare Sizes\n",
        "# ========================\n",
        "!docker images | grep \"app\"\n"
      ],
      "metadata": {
        "colab": {
          "base_uri": "https://localhost:8080/"
        },
        "id": "floHAX0aKO8E",
        "outputId": "a9f7bce2-9966-4fcf-8ac7-357df32e9fdb"
      },
      "execution_count": 8,
      "outputs": [
        {
          "output_type": "stream",
          "name": "stdout",
          "text": [
            "Cannot connect to the Docker daemon at unix:///var/run/docker.sock. Is the docker daemon running?\n"
          ]
        }
      ]
    },
    {
      "cell_type": "code",
      "source": [
        "# ========================\n",
        "# STEP 5: Run & Test Both\n",
        "# ========================\n",
        "\n",
        "print(\"Running bloated app on port 5000...\")\n",
        "!docker run -d -p 5000:5000 bloated-app\n",
        "!sleep 5\n",
        "!curl http://127.0.0.1:5000\n",
        "\n",
        "print(\"Running optimized app on port 5001...\")\n",
        "!docker run -d -p 5001:5000 optimized-app\n",
        "!sleep 5\n",
        "!curl http://127.0.0.1:5001\n"
      ],
      "metadata": {
        "colab": {
          "base_uri": "https://localhost:8080/"
        },
        "id": "7ntEXPI4KQk6",
        "outputId": "94d089f7-921e-4ec5-cc4c-8b1628516c5c"
      },
      "execution_count": 9,
      "outputs": [
        {
          "output_type": "stream",
          "name": "stdout",
          "text": [
            "Running bloated app on port 5000...\n",
            "docker: Cannot connect to the Docker daemon at unix:///var/run/docker.sock. Is the docker daemon running?.\n",
            "See 'docker run --help'.\n",
            "curl: (7) Failed to connect to 127.0.0.1 port 5000 after 0 ms: Connection refused\n",
            "Running optimized app on port 5001...\n",
            "docker: Cannot connect to the Docker daemon at unix:///var/run/docker.sock. Is the docker daemon running?.\n",
            "See 'docker run --help'.\n",
            "curl: (7) Failed to connect to 127.0.0.1 port 5001 after 0 ms: Connection refused\n"
          ]
        }
      ]
    },
    {
      "cell_type": "code",
      "source": [
        "# ================================\n",
        "# FULL DOCKER SIZE REDUCTION DEMO (Colab + Kaniko)\n",
        "# ================================\n",
        "\n",
        "# --- Setup Kaniko ---\n",
        "!curl -L -o /usr/local/bin/kaniko https://github.com/GoogleContainerTools/kaniko/releases/download/v1.9.2/executor-linux-amd64\n",
        "!chmod +x /usr/local/bin/kaniko\n",
        "!mkdir -p /content/docker-demo\n",
        "%cd /content/docker-demo\n",
        "\n",
        "# --- Demo App ---\n",
        "with open(\"app.py\", \"w\") as f:\n",
        "    f.write(\"\"\"\n",
        "from flask import Flask\n",
        "import numpy as np\n",
        "import pandas as pd\n",
        "\n",
        "app = Flask(__name__)\n",
        "\n",
        "@app.route(\"/\")\n",
        "def home():\n",
        "    return f\"Hello Demo | NumPy:{np.__version__}, Pandas:{pd.__version__}\"\n",
        "\n",
        "if __name__ == \"__main__\":\n",
        "    app.run(host=\"0.0.0.0\", port=5000)\n",
        "\"\"\")\n",
        "\n",
        "# --- Bloated Dockerfile ---\n",
        "with open(\"Dockerfile.bloated\", \"w\") as f:\n",
        "    f.write(\"\"\"\n",
        "FROM ubuntu:22.04\n",
        "RUN apt-get update && apt-get install -y python3 python3-pip\n",
        "WORKDIR /app\n",
        "COPY app.py /app\n",
        "RUN pip3 install flask numpy pandas\n",
        "CMD [\"python3\", \"app.py\"]\n",
        "\"\"\")\n",
        "\n",
        "# --- Optimized Dockerfile (multi-stage + distroless) ---\n",
        "with open(\"Dockerfile.optimized\", \"w\") as f:\n",
        "    f.write(\"\"\"\n",
        "FROM python:3.11-slim as builder\n",
        "WORKDIR /app\n",
        "COPY requirements.txt .\n",
        "RUN pip install --user -r requirements.txt\n",
        "COPY app.py .\n",
        "\n",
        "FROM gcr.io/distroless/python3:nonroot\n",
        "WORKDIR /app\n",
        "COPY --from=builder /root/.local /root/.local\n",
        "COPY --from=builder /app /app\n",
        "ENV PATH=/root/.local/bin:$PATH\n",
        "CMD [\"app.py\"]\n",
        "\"\"\")\n",
        "\n",
        "# --- Requirements ---\n",
        "with open(\"requirements.txt\", \"w\") as f:\n",
        "    f.write(\"flask\\\\nnumpy\\\\npandas\\\\n\")\n",
        "\n",
        "# --- Build Bloated ---\n",
        "print(\">>> Building BLOATED image (Ubuntu base)...\")\n",
        "!kaniko --dockerfile=Dockerfile.bloated --context=. --destination=bloated-app:latest --no-push || echo \"Bloated build failed\"\n",
        "\n",
        "# --- Build Optimized ---\n",
        "print(\"\\\\n>>> Building OPTIMIZED image (Slim + Distroless)...\")\n",
        "!kaniko --dockerfile=Dockerfile.optimized --context=. --destination=optimized-app:latest --no-push || echo \"Optimized build failed\"\n",
        "\n",
        "# --- Compare Files ---\n",
        "print(\"\\\\n>>> Checking build artifacts:\")\n",
        "!ls -lh /content/docker-demo\n"
      ],
      "metadata": {
        "colab": {
          "base_uri": "https://localhost:8080/"
        },
        "id": "KGZ55KIPLOyH",
        "outputId": "61a850a3-08bb-47c0-efac-26146969cf91"
      },
      "execution_count": 11,
      "outputs": [
        {
          "output_type": "stream",
          "name": "stdout",
          "text": [
            "  % Total    % Received % Xferd  Average Speed   Time    Time     Time  Current\n",
            "                                 Dload  Upload   Total   Spent    Left  Speed\n",
            "100     9  100     9    0     0     27      0 --:--:-- --:--:-- --:--:--    27\n",
            "/content/docker-demo\n",
            ">>> Building BLOATED image (Ubuntu base)...\n",
            "/usr/local/bin/kaniko: line 1: Not: command not found\n",
            "Bloated build failed\n",
            "\\n>>> Building OPTIMIZED image (Slim + Distroless)...\n",
            "/usr/local/bin/kaniko: line 1: Not: command not found\n",
            "Optimized build failed\n",
            "\\n>>> Checking build artifacts:\n",
            "total 16K\n",
            "-rw-r--r-- 1 root root 258 Sep  1 16:49 app.py\n",
            "-rw-r--r-- 1 root root 172 Sep  1 16:49 Dockerfile.bloated\n",
            "-rw-r--r-- 1 root root 304 Sep  1 16:49 Dockerfile.optimized\n",
            "-rw-r--r-- 1 root root  22 Sep  1 16:49 requirements.txt\n"
          ]
        }
      ]
    },
    {
      "cell_type": "code",
      "source": [
        "# ================================\n",
        "# Docker Size Reduction Demo (Colab Simulation, Clean Build)\n",
        "# ================================\n",
        "\n",
        "import os, shutil, subprocess\n",
        "\n",
        "# Clean workspace\n",
        "!rm -rf /content/bloated_env /content/optimized_env /content/dist /content/build /content/__pycache__ app.spec\n",
        "os.makedirs(\"/content/bloated_env\", exist_ok=True)\n",
        "os.makedirs(\"/content/optimized_env\", exist_ok=True)\n",
        "\n",
        "# --- Demo App ---\n",
        "with open(\"app.py\", \"w\") as f:\n",
        "    f.write(\"\"\"\n",
        "from flask import Flask\n",
        "\n",
        "app = Flask(__name__)\n",
        "\n",
        "@app.route(\"/\")\n",
        "def home():\n",
        "    return \"Hello Demo (Flask only)\"\n",
        "\n",
        "if __name__ == \"__main__\":\n",
        "    app.run(host=\"0.0.0.0\", port=5000)\n",
        "\"\"\")\n",
        "\n",
        "# --- BLOATED VERSION ---\n",
        "print(\">>> Setting up BLOATED version (Flask + NumPy + Pandas + junk)...\")\n",
        "!pip install --target=/content/bloated_env flask==3.0.3 numpy==1.26.4 pandas==2.2.2 > /dev/null\n",
        "shutil.copy(\"app.py\", \"/content/bloated_env/app.py\")\n",
        "!dd if=/dev/zero of=/content/bloated_env/extra_junk bs=1M count=200 status=none  # simulate 200MB junk\n",
        "\n",
        "# --- OPTIMIZED VERSION ---\n",
        "print(\">>> Building OPTIMIZED version using PyInstaller (Flask only)...\")\n",
        "!pip install pyinstaller==6.4 > /dev/null\n",
        "!pyinstaller --onefile app.py --hidden-import flask --clean > /dev/null\n",
        "shutil.copy(\"dist/app\", \"/content/optimized_env/app\")\n",
        "\n",
        "# --- Compare Sizes ---\n",
        "print(\"\\n>>> Comparing sizes:\")\n",
        "!du -sh /content/bloated_env\n",
        "!du -sh /content/optimized_env\n",
        "\n",
        "# --- Run BLOATED safely ---\n",
        "print(\"\\n>>> Running BLOATED app for 5s...\")\n",
        "!timeout 5s python3 /content/bloated_env/app.py &\n",
        "!sleep 2\n",
        "print(\"Response:\", end=\" \")\n",
        "!curl -s http://127.0.0.1:5000 || echo \"App exited\"\n",
        "\n",
        "# --- Run OPTIMIZED safely ---\n",
        "print(\"\\n>>> Running OPTIMIZED binary for 5s...\")\n",
        "!timeout 5s /content/optimized_env/app &\n",
        "!sleep 2\n",
        "print(\"Response:\", end=\" \")\n",
        "!curl -s http://127.0.0.1:5000 || echo \"App exited\"\n",
        "\n",
        "# --- Reduction % ---\n",
        "import subprocess\n",
        "size_bloated = int(subprocess.check_output([\"du\",\"-s\",\"/content/bloated_env\"]).split()[0])\n",
        "size_optimized = int(subprocess.check_output([\"du\",\"-s\",\"/content/optimized_env\"]).split()[0])\n",
        "reduction = 100 * (1 - size_optimized/size_bloated)\n",
        "print(f\"\\n>>> Size Reduction: {reduction:.2f}%\")\n"
      ],
      "metadata": {
        "colab": {
          "base_uri": "https://localhost:8080/",
          "height": 1000
        },
        "id": "oeneiFP-L_ga",
        "outputId": "63d76de2-2c41-4493-ff1c-b23f1beac996"
      },
      "execution_count": 14,
      "outputs": [
        {
          "output_type": "stream",
          "name": "stdout",
          "text": [
            ">>> Setting up BLOATED version (Flask + NumPy + Pandas + junk)...\n",
            "\u001b[31mERROR: pip's dependency resolver does not currently take into account all the packages that are installed. This behaviour is the source of the following dependency conflicts.\n",
            "opencv-contrib-python 4.12.0.88 requires numpy<2.3.0,>=2; python_version >= \"3.9\", but you have numpy 1.26.4 which is incompatible.\n",
            "thinc 8.3.6 requires numpy<3.0.0,>=2.0.0, but you have numpy 1.26.4 which is incompatible.\n",
            "opencv-python-headless 4.12.0.88 requires numpy<2.3.0,>=2; python_version >= \"3.9\", but you have numpy 1.26.4 which is incompatible.\n",
            "opencv-python 4.12.0.88 requires numpy<2.3.0,>=2; python_version >= \"3.9\", but you have numpy 1.26.4 which is incompatible.\u001b[0m\u001b[31m\n",
            "\u001b[0m>>> Building OPTIMIZED version using PyInstaller (Flask only)...\n",
            "319 INFO: PyInstaller: 6.4.0, contrib hooks: 2025.8\n",
            "320 INFO: Python: 3.12.11\n",
            "321 INFO: Platform: Linux-6.1.123+-x86_64-with-glibc2.35\n",
            "322 INFO: wrote /content/docker-demo/app.spec\n",
            "323 INFO: Removing temporary files and cleaning cache in /root/.cache/pyinstaller\n",
            "324 INFO: Extending PYTHONPATH with paths\n",
            "['/content/docker-demo']\n",
            "974 INFO: checking Analysis\n",
            "975 INFO: Building Analysis because Analysis-00.toc is non existent\n",
            "975 INFO: Initializing module dependency graph...\n",
            "975 INFO: Caching module graph hooks...\n",
            "987 INFO: Analyzing base_library.zip ...\n",
            "2572 INFO: Loading module hook 'hook-heapq.py' from '/usr/local/lib/python3.12/dist-packages/PyInstaller/hooks'...\n",
            "2765 INFO: Loading module hook 'hook-encodings.py' from '/usr/local/lib/python3.12/dist-packages/PyInstaller/hooks'...\n",
            "5671 INFO: Loading module hook 'hook-pickle.py' from '/usr/local/lib/python3.12/dist-packages/PyInstaller/hooks'...\n",
            "7288 INFO: Caching module dependency graph...\n",
            "7404 INFO: Running Analysis Analysis-00.toc\n",
            "7404 INFO: Looking for Python shared library...\n",
            "7467 INFO: Using Python shared library: /lib/x86_64-linux-gnu/libpython3.12.so.1.0\n",
            "7467 INFO: Analyzing /content/docker-demo/app.py\n",
            "8462 INFO: Loading module hook 'hook-multiprocessing.util.py' from '/usr/local/lib/python3.12/dist-packages/PyInstaller/hooks'...\n",
            "8587 INFO: Loading module hook 'hook-xml.py' from '/usr/local/lib/python3.12/dist-packages/PyInstaller/hooks'...\n",
            "10067 INFO: Loading module hook 'hook-cryptography.py' from '/usr/local/lib/python3.12/dist-packages/_pyinstaller_hooks_contrib/stdhooks'...\n",
            "11085 INFO: hook-cryptography: cryptography does not seem to be using dynamically linked OpenSSL.\n",
            "11637 INFO: Loading module hook 'hook-platform.py' from '/usr/local/lib/python3.12/dist-packages/PyInstaller/hooks'...\n",
            "11920 INFO: Loading module hook 'hook-sysconfig.py' from '/usr/local/lib/python3.12/dist-packages/PyInstaller/hooks'...\n",
            "12700 INFO: Loading module hook 'hook-difflib.py' from '/usr/local/lib/python3.12/dist-packages/PyInstaller/hooks'...\n",
            "13032 INFO: Loading module hook 'hook-jinja2.py' from '/usr/local/lib/python3.12/dist-packages/_pyinstaller_hooks_contrib/stdhooks'...\n",
            "13791 INFO: Loading module hook 'hook-IPython.py' from '/usr/local/lib/python3.12/dist-packages/_pyinstaller_hooks_contrib/stdhooks'...\n",
            "16497 INFO: Loading module hook 'hook-numpy.py' from '/usr/local/lib/python3.12/dist-packages/numpy/_pyinstaller'...\n",
            "18299 INFO: Loading module hook 'hook-psutil.py' from '/usr/local/lib/python3.12/dist-packages/_pyinstaller_hooks_contrib/stdhooks'...\n",
            "19782 INFO: Loading module hook 'hook-charset_normalizer.py' from '/usr/local/lib/python3.12/dist-packages/_pyinstaller_hooks_contrib/stdhooks'...\n",
            "20693 INFO: Loading module hook 'hook-pygments.py' from '/usr/local/lib/python3.12/dist-packages/PyInstaller/hooks'...\n",
            "23220 INFO: Loading module hook 'hook-notebook.py' from '/usr/local/lib/python3.12/dist-packages/_pyinstaller_hooks_contrib/stdhooks'...\n",
            "23801 INFO: Loading module hook 'hook-platformdirs.py' from '/usr/local/lib/python3.12/dist-packages/_pyinstaller_hooks_contrib/stdhooks'...\n",
            "24483 INFO: Processing pre-safe import module hook distutils from '/usr/local/lib/python3.12/dist-packages/PyInstaller/hooks/pre_safe_import_module/hook-distutils.py'.\n",
            "25120 INFO: Loading module hook 'hook-nbformat.py' from '/usr/local/lib/python3.12/dist-packages/_pyinstaller_hooks_contrib/stdhooks'...\n",
            "25331 INFO: Loading module hook 'hook-jsonschema.py' from '/usr/local/lib/python3.12/dist-packages/_pyinstaller_hooks_contrib/stdhooks'...\n",
            "26077 INFO: Loading module hook 'hook-jsonschema_specifications.py' from '/usr/local/lib/python3.12/dist-packages/_pyinstaller_hooks_contrib/stdhooks'...\n",
            "26105 INFO: Loading module hook 'hook-importlib_resources.py' from '/usr/local/lib/python3.12/dist-packages/PyInstaller/hooks'...\n",
            "26225 INFO: Loading module hook 'hook-urllib3.py' from '/usr/local/lib/python3.12/dist-packages/_pyinstaller_hooks_contrib/stdhooks'...\n",
            "27472 INFO: Loading module hook 'hook-certifi.py' from '/usr/local/lib/python3.12/dist-packages/_pyinstaller_hooks_contrib/stdhooks'...\n",
            "27764 INFO: Loading module hook 'hook-nbconvert.py' from '/usr/local/lib/python3.12/dist-packages/_pyinstaller_hooks_contrib/stdhooks'...\n",
            "27931 INFO: Loading module hook 'hook-packaging.py' from '/usr/local/lib/python3.12/dist-packages/PyInstaller/hooks'...\n",
            "29367 INFO: Processing pre-safe import module hook six.moves from '/usr/local/lib/python3.12/dist-packages/PyInstaller/hooks/pre_safe_import_module/hook-six.moves.py'.\n",
            "29826 INFO: Loading module hook 'hook-xml.etree.cElementTree.py' from '/usr/local/lib/python3.12/dist-packages/PyInstaller/hooks'...\n",
            "30225 INFO: Loading module hook 'hook-xml.dom.domreg.py' from '/usr/local/lib/python3.12/dist-packages/PyInstaller/hooks'...\n",
            "30493 INFO: Loading module hook 'hook-lxml.py' from '/usr/local/lib/python3.12/dist-packages/_pyinstaller_hooks_contrib/stdhooks'...\n",
            "31912 INFO: Loading module hook 'hook-zmq.py' from '/usr/local/lib/python3.12/dist-packages/_pyinstaller_hooks_contrib/stdhooks'...\n",
            "32568 INFO: Loading module hook 'hook-pycparser.py' from '/usr/local/lib/python3.12/dist-packages/_pyinstaller_hooks_contrib/stdhooks'...\n",
            "33082 INFO: Loading module hook 'hook-setuptools.py' from '/usr/local/lib/python3.12/dist-packages/PyInstaller/hooks'...\n",
            "36887 INFO: Loading module hook 'hook-jaraco.text.py' from '/usr/local/lib/python3.12/dist-packages/_pyinstaller_hooks_contrib/stdhooks'...\n",
            "37322 INFO: Loading module hook 'hook-backports.py' from '/usr/local/lib/python3.12/dist-packages/_pyinstaller_hooks_contrib/stdhooks'...\n",
            "37435 INFO: Loading module hook 'hook-importlib_metadata.py' from '/usr/local/lib/python3.12/dist-packages/PyInstaller/hooks'...\n",
            "38281 INFO: Loading module hook 'hook-pkg_resources.py' from '/usr/local/lib/python3.12/dist-packages/PyInstaller/hooks'...\n",
            "40043 INFO: Loading module hook 'hook-dateutil.py' from '/usr/local/lib/python3.12/dist-packages/_pyinstaller_hooks_contrib/stdhooks'...\n",
            "41590 INFO: Loading module hook 'hook-wcwidth.py' from '/usr/local/lib/python3.12/dist-packages/PyInstaller/hooks'...\n",
            "43590 INFO: Loading module hook 'hook-matplotlib.py' from '/usr/local/lib/python3.12/dist-packages/PyInstaller/hooks'...\n",
            "44180 INFO: Processing pre-safe import module hook gi from '/usr/local/lib/python3.12/dist-packages/PyInstaller/hooks/pre_safe_import_module/hook-gi.py'.\n",
            "44275 INFO: Loading module hook 'hook-gi.py' from '/usr/local/lib/python3.12/dist-packages/PyInstaller/hooks'...\n",
            "44347 INFO: Processing pre-safe import module hook gi.repository.GLib from '/usr/local/lib/python3.12/dist-packages/PyInstaller/hooks/pre_safe_import_module/hook-gi.repository.GLib.py'.\n",
            "44774 INFO: Loading module hook 'hook-PIL.py' from '/usr/local/lib/python3.12/dist-packages/PyInstaller/hooks'...\n",
            "44893 INFO: Loading module hook 'hook-PIL.Image.py' from '/usr/local/lib/python3.12/dist-packages/PyInstaller/hooks'...\n",
            "45535 INFO: Loading module hook 'hook-PIL.ImageFilter.py' from '/usr/local/lib/python3.12/dist-packages/PyInstaller/hooks'...\n",
            "47543 INFO: Loading module hook 'hook-matplotlib.backends.py' from '/usr/local/lib/python3.12/dist-packages/PyInstaller/hooks'...\n",
            "51114 INFO: Processing pre-safe import module hook gi.repository.GObject from '/usr/local/lib/python3.12/dist-packages/PyInstaller/hooks/pre_safe_import_module/hook-gi.repository.GObject.py'.\n",
            "51115 INFO: Processing pre-safe import module hook gi.repository.Gtk from '/usr/local/lib/python3.12/dist-packages/PyInstaller/hooks/pre_safe_import_module/hook-gi.repository.Gtk.py'.\n",
            "51645 INFO: Loading module hook 'hook-distributed.py' from '/usr/local/lib/python3.12/dist-packages/_pyinstaller_hooks_contrib/stdhooks'...\n",
            "54645 INFO: Loading module hook 'hook-dask.py' from '/usr/local/lib/python3.12/dist-packages/_pyinstaller_hooks_contrib/stdhooks'...\n",
            "55194 INFO: Loading module hook 'hook-cloudpickle.py' from '/usr/local/lib/python3.12/dist-packages/_pyinstaller_hooks_contrib/stdhooks'...\n",
            "58533 INFO: Loading module hook 'hook-scipy.py' from '/usr/local/lib/python3.12/dist-packages/PyInstaller/hooks'...\n",
            "58574 INFO: Loading module hook 'hook-pytest.py' from '/usr/local/lib/python3.12/dist-packages/_pyinstaller_hooks_contrib/stdhooks'...\n",
            "58924 INFO: Loading module hook 'hook-py.py' from '/usr/local/lib/python3.12/dist-packages/_pyinstaller_hooks_contrib/stdhooks'...\n",
            "61011 INFO: Loading module hook 'hook-pandas.py' from '/usr/local/lib/python3.12/dist-packages/PyInstaller/hooks'...\n",
            "439 INFO: NumExpr defaulting to 2 threads.\n",
            "62868 INFO: Loading module hook 'hook-pytz.py' from '/usr/local/lib/python3.12/dist-packages/PyInstaller/hooks'...\n",
            "63017 INFO: Loading module hook 'hook-pyarrow.py' from '/usr/local/lib/python3.12/dist-packages/_pyinstaller_hooks_contrib/stdhooks'...\n",
            "63727 INFO: Loading module hook 'hook-fsspec.py' from '/usr/local/lib/python3.12/dist-packages/_pyinstaller_hooks_contrib/stdhooks'...\n",
            "67895 INFO: Loading module hook 'hook-scipy.linalg.py' from '/usr/local/lib/python3.12/dist-packages/PyInstaller/hooks'...\n",
            "73856 INFO: Processing pre-safe import module hook tensorflow from '/usr/local/lib/python3.12/dist-packages/_pyinstaller_hooks_contrib/pre_safe_import_module/hook-tensorflow.py'.\n",
            "73878 INFO: Loading module hook 'hook-tensorflow.py' from '/usr/local/lib/python3.12/dist-packages/_pyinstaller_hooks_contrib/stdhooks'...\n",
            "73881 INFO: hook-tensorflow: tensorflow dist name: tensorflow\n",
            "73882 INFO: hook-tensorflow: tensorflow version: 2.19.0\n",
            "2025-09-01 17:01:18.296727: E external/local_xla/xla/stream_executor/cuda/cuda_fft.cc:467] Unable to register cuFFT factory: Attempting to register factory for plugin cuFFT when one has already been registered\n",
            "WARNING: All log messages before absl::InitializeLog() is called are written to STDERR\n",
            "E0000 00:00:1756746078.318755    6897 cuda_dnn.cc:8579] Unable to register cuDNN factory: Attempting to register factory for plugin cuDNN when one has already been registered\n",
            "E0000 00:00:1756746078.325416    6897 cuda_blas.cc:1407] Unable to register cuBLAS factory: Attempting to register factory for plugin cuBLAS when one has already been registered\n",
            "W0000 00:00:1756746078.342536    6897 computation_placer.cc:177] computation placer already registered. Please check linkage and avoid linking the same target more than once.\n",
            "W0000 00:00:1756746078.342585    6897 computation_placer.cc:177] computation placer already registered. Please check linkage and avoid linking the same target more than once.\n",
            "W0000 00:00:1756746078.342589    6897 computation_placer.cc:177] computation placer already registered. Please check linkage and avoid linking the same target more than once.\n",
            "W0000 00:00:1756746078.342594    6897 computation_placer.cc:177] computation placer already registered. Please check linkage and avoid linking the same target more than once.\n",
            "2025-09-01 17:01:18.348099: I tensorflow/core/platform/cpu_feature_guard.cc:210] This TensorFlow binary is optimized to use available CPU instructions in performance-critical operations.\n",
            "To enable the following instructions: AVX2 FMA, in other operations, rebuild TensorFlow with the appropriate compiler flags.\n",
            "3808 INFO: NumExpr defaulting to 2 threads.\n",
            "2025-09-01 17:01:32.346539: E external/local_xla/xla/stream_executor/cuda/cuda_fft.cc:467] Unable to register cuFFT factory: Attempting to register factory for plugin cuFFT when one has already been registered\n",
            "WARNING: All log messages before absl::InitializeLog() is called are written to STDERR\n",
            "E0000 00:00:1756746092.370563    6963 cuda_dnn.cc:8579] Unable to register cuDNN factory: Attempting to register factory for plugin cuDNN when one has already been registered\n",
            "E0000 00:00:1756746092.377430    6963 cuda_blas.cc:1407] Unable to register cuBLAS factory: Attempting to register factory for plugin cuBLAS when one has already been registered\n",
            "W0000 00:00:1756746092.395014    6963 computation_placer.cc:177] computation placer already registered. Please check linkage and avoid linking the same target more than once.\n",
            "W0000 00:00:1756746092.395068    6963 computation_placer.cc:177] computation placer already registered. Please check linkage and avoid linking the same target more than once.\n",
            "W0000 00:00:1756746092.395075    6963 computation_placer.cc:177] computation placer already registered. Please check linkage and avoid linking the same target more than once.\n",
            "W0000 00:00:1756746092.395079    6963 computation_placer.cc:177] computation placer already registered. Please check linkage and avoid linking the same target more than once.\n",
            "2025-09-01 17:01:32.400220: I tensorflow/core/platform/cpu_feature_guard.cc:210] This TensorFlow binary is optimized to use available CPU instructions in performance-critical operations.\n",
            "To enable the following instructions: AVX2 FMA, in other operations, rebuild TensorFlow with the appropriate compiler flags.\n",
            "4211 INFO: NumExpr defaulting to 2 threads.\n",
            "9492 WARNING: Failed to collect submodules for 'keras.src.backend.openvino' because importing 'keras.src.backend.openvino' raised: ModuleNotFoundError: No module named 'openvino'\n",
            "99323 INFO: hook-tensorflow: inferred hidden imports for CUDA libraries: ['nvidia.cublas', 'nvidia.cuda_cupti', 'nvidia.cuda_nvcc', 'nvidia.cuda_nvrtc', 'nvidia.cuda_runtime', 'nvidia.cudnn', 'nvidia.cufft', 'nvidia.curand', 'nvidia.cusolver', 'nvidia.cusparse', 'nvidia.nccl', 'nvidia.nvjitlink']\n",
            "99324 WARNING: collect_dynamic_libs - skipping library collection for module 'tensorflow-plugins' as it is not a package.\n",
            "112634 INFO: Loading module hook 'hook-h5py.py' from '/usr/local/lib/python3.12/dist-packages/_pyinstaller_hooks_contrib/stdhooks'...\n",
            "117125 INFO: Loading module hook 'hook-torch.py' from '/usr/local/lib/python3.12/dist-packages/_pyinstaller_hooks_contrib/stdhooks'...\n",
            "2025-09-01 17:02:07.868844: E external/local_xla/xla/stream_executor/cuda/cuda_fft.cc:467] Unable to register cuFFT factory: Attempting to register factory for plugin cuFFT when one has already been registered\n",
            "WARNING: All log messages before absl::InitializeLog() is called are written to STDERR\n",
            "E0000 00:00:1756746127.921696    7102 cuda_dnn.cc:8579] Unable to register cuDNN factory: Attempting to register factory for plugin cuDNN when one has already been registered\n",
            "E0000 00:00:1756746127.937929    7102 cuda_blas.cc:1407] Unable to register cuBLAS factory: Attempting to register factory for plugin cuBLAS when one has already been registered\n",
            "W0000 00:00:1756746127.985392    7102 computation_placer.cc:177] computation placer already registered. Please check linkage and avoid linking the same target more than once.\n",
            "W0000 00:00:1756746127.985457    7102 computation_placer.cc:177] computation placer already registered. Please check linkage and avoid linking the same target more than once.\n",
            "W0000 00:00:1756746127.985462    7102 computation_placer.cc:177] computation placer already registered. Please check linkage and avoid linking the same target more than once.\n",
            "W0000 00:00:1756746127.985466    7102 computation_placer.cc:177] computation placer already registered. Please check linkage and avoid linking the same target more than once.\n",
            "2025-09-01 17:02:07.997966: I tensorflow/core/platform/cpu_feature_guard.cc:210] This TensorFlow binary is optimized to use available CPU instructions in performance-critical operations.\n",
            "To enable the following instructions: AVX2 FMA, in other operations, rebuild TensorFlow with the appropriate compiler flags.\n",
            "8632 INFO: NumExpr defaulting to 2 threads.\n",
            "W0901 17:02:14.754000 7102 torch/utils/cpp_extension.py:118] No CUDA runtime is found, using CUDA_HOME='/usr/local/cuda'\n",
            "Aborted by user request.\n"
          ]
        },
        {
          "output_type": "error",
          "ename": "FileNotFoundError",
          "evalue": "[Errno 2] No such file or directory: 'dist/app'",
          "traceback": [
            "\u001b[0;31m---------------------------------------------------------------------------\u001b[0m",
            "\u001b[0;31mFileNotFoundError\u001b[0m                         Traceback (most recent call last)",
            "\u001b[0;32m/tmp/ipython-input-411284107.py\u001b[0m in \u001b[0;36m<cell line: 0>\u001b[0;34m()\u001b[0m\n\u001b[1;32m     35\u001b[0m \u001b[0mget_ipython\u001b[0m\u001b[0;34m(\u001b[0m\u001b[0;34m)\u001b[0m\u001b[0;34m.\u001b[0m\u001b[0msystem\u001b[0m\u001b[0;34m(\u001b[0m\u001b[0;34m'pip install pyinstaller==6.4 > /dev/null'\u001b[0m\u001b[0;34m)\u001b[0m\u001b[0;34m\u001b[0m\u001b[0;34m\u001b[0m\u001b[0m\n\u001b[1;32m     36\u001b[0m \u001b[0mget_ipython\u001b[0m\u001b[0;34m(\u001b[0m\u001b[0;34m)\u001b[0m\u001b[0;34m.\u001b[0m\u001b[0msystem\u001b[0m\u001b[0;34m(\u001b[0m\u001b[0;34m'pyinstaller --onefile app.py --hidden-import flask --clean > /dev/null'\u001b[0m\u001b[0;34m)\u001b[0m\u001b[0;34m\u001b[0m\u001b[0;34m\u001b[0m\u001b[0m\n\u001b[0;32m---> 37\u001b[0;31m \u001b[0mshutil\u001b[0m\u001b[0;34m.\u001b[0m\u001b[0mcopy\u001b[0m\u001b[0;34m(\u001b[0m\u001b[0;34m\"dist/app\"\u001b[0m\u001b[0;34m,\u001b[0m \u001b[0;34m\"/content/optimized_env/app\"\u001b[0m\u001b[0;34m)\u001b[0m\u001b[0;34m\u001b[0m\u001b[0;34m\u001b[0m\u001b[0m\n\u001b[0m\u001b[1;32m     38\u001b[0m \u001b[0;34m\u001b[0m\u001b[0m\n\u001b[1;32m     39\u001b[0m \u001b[0;31m# --- Compare Sizes ---\u001b[0m\u001b[0;34m\u001b[0m\u001b[0;34m\u001b[0m\u001b[0m\n",
            "\u001b[0;32m/usr/lib/python3.12/shutil.py\u001b[0m in \u001b[0;36mcopy\u001b[0;34m(src, dst, follow_symlinks)\u001b[0m\n\u001b[1;32m    433\u001b[0m     \u001b[0;32mif\u001b[0m \u001b[0mos\u001b[0m\u001b[0;34m.\u001b[0m\u001b[0mpath\u001b[0m\u001b[0;34m.\u001b[0m\u001b[0misdir\u001b[0m\u001b[0;34m(\u001b[0m\u001b[0mdst\u001b[0m\u001b[0;34m)\u001b[0m\u001b[0;34m:\u001b[0m\u001b[0;34m\u001b[0m\u001b[0;34m\u001b[0m\u001b[0m\n\u001b[1;32m    434\u001b[0m         \u001b[0mdst\u001b[0m \u001b[0;34m=\u001b[0m \u001b[0mos\u001b[0m\u001b[0;34m.\u001b[0m\u001b[0mpath\u001b[0m\u001b[0;34m.\u001b[0m\u001b[0mjoin\u001b[0m\u001b[0;34m(\u001b[0m\u001b[0mdst\u001b[0m\u001b[0;34m,\u001b[0m \u001b[0mos\u001b[0m\u001b[0;34m.\u001b[0m\u001b[0mpath\u001b[0m\u001b[0;34m.\u001b[0m\u001b[0mbasename\u001b[0m\u001b[0;34m(\u001b[0m\u001b[0msrc\u001b[0m\u001b[0;34m)\u001b[0m\u001b[0;34m)\u001b[0m\u001b[0;34m\u001b[0m\u001b[0;34m\u001b[0m\u001b[0m\n\u001b[0;32m--> 435\u001b[0;31m     \u001b[0mcopyfile\u001b[0m\u001b[0;34m(\u001b[0m\u001b[0msrc\u001b[0m\u001b[0;34m,\u001b[0m \u001b[0mdst\u001b[0m\u001b[0;34m,\u001b[0m \u001b[0mfollow_symlinks\u001b[0m\u001b[0;34m=\u001b[0m\u001b[0mfollow_symlinks\u001b[0m\u001b[0;34m)\u001b[0m\u001b[0;34m\u001b[0m\u001b[0;34m\u001b[0m\u001b[0m\n\u001b[0m\u001b[1;32m    436\u001b[0m     \u001b[0mcopymode\u001b[0m\u001b[0;34m(\u001b[0m\u001b[0msrc\u001b[0m\u001b[0;34m,\u001b[0m \u001b[0mdst\u001b[0m\u001b[0;34m,\u001b[0m \u001b[0mfollow_symlinks\u001b[0m\u001b[0;34m=\u001b[0m\u001b[0mfollow_symlinks\u001b[0m\u001b[0;34m)\u001b[0m\u001b[0;34m\u001b[0m\u001b[0;34m\u001b[0m\u001b[0m\n\u001b[1;32m    437\u001b[0m     \u001b[0;32mreturn\u001b[0m \u001b[0mdst\u001b[0m\u001b[0;34m\u001b[0m\u001b[0;34m\u001b[0m\u001b[0m\n",
            "\u001b[0;32m/usr/lib/python3.12/shutil.py\u001b[0m in \u001b[0;36mcopyfile\u001b[0;34m(src, dst, follow_symlinks)\u001b[0m\n\u001b[1;32m    258\u001b[0m         \u001b[0mos\u001b[0m\u001b[0;34m.\u001b[0m\u001b[0msymlink\u001b[0m\u001b[0;34m(\u001b[0m\u001b[0mos\u001b[0m\u001b[0;34m.\u001b[0m\u001b[0mreadlink\u001b[0m\u001b[0;34m(\u001b[0m\u001b[0msrc\u001b[0m\u001b[0;34m)\u001b[0m\u001b[0;34m,\u001b[0m \u001b[0mdst\u001b[0m\u001b[0;34m)\u001b[0m\u001b[0;34m\u001b[0m\u001b[0;34m\u001b[0m\u001b[0m\n\u001b[1;32m    259\u001b[0m     \u001b[0;32melse\u001b[0m\u001b[0;34m:\u001b[0m\u001b[0;34m\u001b[0m\u001b[0;34m\u001b[0m\u001b[0m\n\u001b[0;32m--> 260\u001b[0;31m         \u001b[0;32mwith\u001b[0m \u001b[0mopen\u001b[0m\u001b[0;34m(\u001b[0m\u001b[0msrc\u001b[0m\u001b[0;34m,\u001b[0m \u001b[0;34m'rb'\u001b[0m\u001b[0;34m)\u001b[0m \u001b[0;32mas\u001b[0m \u001b[0mfsrc\u001b[0m\u001b[0;34m:\u001b[0m\u001b[0;34m\u001b[0m\u001b[0;34m\u001b[0m\u001b[0m\n\u001b[0m\u001b[1;32m    261\u001b[0m             \u001b[0;32mtry\u001b[0m\u001b[0;34m:\u001b[0m\u001b[0;34m\u001b[0m\u001b[0;34m\u001b[0m\u001b[0m\n\u001b[1;32m    262\u001b[0m                 \u001b[0;32mwith\u001b[0m \u001b[0mopen\u001b[0m\u001b[0;34m(\u001b[0m\u001b[0mdst\u001b[0m\u001b[0;34m,\u001b[0m \u001b[0;34m'wb'\u001b[0m\u001b[0;34m)\u001b[0m \u001b[0;32mas\u001b[0m \u001b[0mfdst\u001b[0m\u001b[0;34m:\u001b[0m\u001b[0;34m\u001b[0m\u001b[0;34m\u001b[0m\u001b[0m\n",
            "\u001b[0;31mFileNotFoundError\u001b[0m: [Errno 2] No such file or directory: 'dist/app'"
          ]
        }
      ]
    },
    {
      "cell_type": "code",
      "source": [
        "# %%capture\n",
        "import os\n",
        "import random\n",
        "\n",
        "# Setup demo folder\n",
        "os.makedirs(\"/content/docker-demo\", exist_ok=True)\n",
        "os.chdir(\"/content/docker-demo\")\n",
        "\n",
        "# Sample app\n",
        "with open(\"app.py\", \"w\") as f:\n",
        "    f.write(\"print('Hello from Flask App!')\\n\")\n",
        "\n",
        "with open(\"requirements.txt\", \"w\") as f:\n",
        "    f.write(\"flask\\n\")\n",
        "\n",
        "# Dockerfiles (not really used, just for demo)\n",
        "with open(\"Dockerfile.bloated\", \"w\") as f:\n",
        "    f.write(\"FROM ubuntu:20.04\\nRUN apt-get update && apt-get install -y python3 python3-pip\\nCOPY . /app\\nWORKDIR /app\\nRUN pip3 install -r requirements.txt\\nCMD [\\\"python3\\\", \\\"app.py\\\"]\\n\")\n",
        "\n",
        "with open(\"Dockerfile.optimized\", \"w\") as f:\n",
        "    f.write(\"FROM python:3.9-slim\\nWORKDIR /app\\nCOPY requirements.txt .\\nRUN pip install -r requirements.txt\\nCOPY . .\\nCMD [\\\"python\\\", \\\"app.py\\\"]\\n\")\n",
        "\n",
        "print(\">>> Simulating Docker Build Sizes...\\n\")\n",
        "\n",
        "# Simulate size difference (in MB)\n",
        "bloated_size = random.randint(700, 900)  # Ubuntu base + extras\n",
        "optimized_size = random.randint(50, 120)  # Slim base\n",
        "\n",
        "print(f\"Bloated Image Size   : {bloated_size} MB\")\n",
        "print(f\"Optimized Image Size : {optimized_size} MB\")\n",
        "\n",
        "print(\"\\n>>> Files in project:\")\n",
        "!ls -lh\n"
      ],
      "metadata": {
        "colab": {
          "base_uri": "https://localhost:8080/"
        },
        "id": "-IgLf24NOdC-",
        "outputId": "4c3255f5-e7f1-4e6a-88ab-7f130b159740"
      },
      "execution_count": 17,
      "outputs": [
        {
          "output_type": "stream",
          "name": "stdout",
          "text": [
            ">>> Simulating Docker Build Sizes...\n",
            "\n",
            "Bloated Image Size   : 805 MB\n",
            "Optimized Image Size : 63 MB\n",
            "\n",
            ">>> Files in project:\n",
            "total 28K\n",
            "-rw-r--r-- 1 root root   31 Sep  1 17:02 app.py\n",
            "-rw-r--r-- 1 root root  645 Sep  1 17:00 app.spec\n",
            "drwxr-xr-x 3 root root 4.0K Sep  1 16:51 build\n",
            "drwxr-xr-x 2 root root 4.0K Sep  1 16:51 dist\n",
            "-rw-r--r-- 1 root root  167 Sep  1 17:02 Dockerfile.bloated\n",
            "-rw-r--r-- 1 root root  128 Sep  1 17:02 Dockerfile.optimized\n",
            "-rw-r--r-- 1 root root    6 Sep  1 17:02 requirements.txt\n"
          ]
        }
      ]
    }
  ]
}